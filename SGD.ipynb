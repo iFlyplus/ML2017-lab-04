{
 "cells": [
  {
   "cell_type": "code",
   "execution_count": 1,
   "metadata": {},
   "outputs": [
    {
     "name": "stderr",
     "output_type": "stream",
     "text": [
      "C:\\ProgramData\\Anaconda3\\lib\\site-packages\\sklearn\\cross_validation.py:44: DeprecationWarning: This module was deprecated in version 0.18 in favor of the model_selection module into which all the refactored classes and functions are moved. Also note that the interface of the new CV iterators are different from that of this module. This module will be removed in 0.20.\n",
      "  \"This module will be removed in 0.20.\", DeprecationWarning)\n"
     ]
    }
   ],
   "source": [
    "import numpy as np\n",
    "import pandas as pd\n",
    "from sklearn.cross_validation import train_test_split\n",
    "import matplotlib.pyplot as plt"
   ]
  },
  {
   "cell_type": "code",
   "execution_count": 2,
   "metadata": {
    "collapsed": true
   },
   "outputs": [],
   "source": [
    "header = ['user_id', 'item_id', 'rating', 'timestamp']\n",
    "dataset = pd.read_csv('ml-100k/u.data', sep = '\\t', names=header)"
   ]
  },
  {
   "cell_type": "code",
   "execution_count": 3,
   "metadata": {},
   "outputs": [
    {
     "name": "stdout",
     "output_type": "stream",
     "text": [
      "datasets info:\n",
      "- num of user: 943\n",
      "- num of movie: 1682 \n",
      "- sparsity: 0.936953\n"
     ]
    }
   ],
   "source": [
    "num_user = dataset.user_id.unique().shape[0]\n",
    "num_movie = dataset.item_id.unique().shape[0]\n",
    "sparsity = 1.0 - len(dataset)/(num_user*num_movie)\n",
    "print('datasets info:')\n",
    "print('- num of user: %d' % num_user)\n",
    "print('- num of movie: %d ' % num_movie)\n",
    "print('- sparsity: %f' % sparsity)"
   ]
  },
  {
   "cell_type": "code",
   "execution_count": 4,
   "metadata": {
    "collapsed": true
   },
   "outputs": [],
   "source": [
    "train_data, test_data = train_test_split(dataset, test_size=0.2)"
   ]
  },
  {
   "cell_type": "markdown",
   "metadata": {},
   "source": [
    "# SGD for MF"
   ]
  },
  {
   "cell_type": "code",
   "execution_count": 5,
   "metadata": {
    "collapsed": true
   },
   "outputs": [],
   "source": [
    "reg = 0.1\n",
    "lr = 0.01\n",
    "k = 10\n",
    "P = np.random.random((num_user, k)) * 0.001\n",
    "Q = np.random.random((num_movie, k)) * 0.001\n",
    "\n",
    "loss_history = []\n",
    "for i in range(10):\n",
    "    for line in train_data.itertuples():\n",
    "        grad_P = - (line[3] - np.sum(P[line[1]-1] * Q[line[2]-1])) * Q[line[2]-1] + \\\n",
    "                reg * P[line[1]-1]\n",
    "        grad_Q = - (line[3] - np.sum(P[line[1]-1] * Q[line[2]-1])) * P[line[1]-1] + \\\n",
    "                reg * Q[line[2]-1]\n",
    "        P[line[1]-1] -= lr * grad_P\n",
    "        Q[line[2]-1] -= lr * grad_Q\n",
    "    loss_history.append(abs(line[3] - np.sum(P[line[1]-1] * Q[line[2]-1])))"
   ]
  },
  {
   "cell_type": "code",
   "execution_count": 6,
   "metadata": {},
   "outputs": [
    {
     "ename": "NameError",
     "evalue": "name 'sqrt' is not defined",
     "output_type": "error",
     "traceback": [
      "\u001b[1;31m---------------------------------------------------------------------------\u001b[0m",
      "\u001b[1;31mNameError\u001b[0m                                 Traceback (most recent call last)",
      "\u001b[1;32m<ipython-input-6-8c0f6480612d>\u001b[0m in \u001b[0;36m<module>\u001b[1;34m()\u001b[0m\n\u001b[0;32m      4\u001b[0m \u001b[1;33m\u001b[0m\u001b[0m\n\u001b[0;32m      5\u001b[0m \u001b[0mloss\u001b[0m\u001b[1;33m/=\u001b[0m\u001b[0mlen\u001b[0m\u001b[1;33m(\u001b[0m\u001b[0mtrain_data\u001b[0m\u001b[1;33m)\u001b[0m\u001b[1;33m\u001b[0m\u001b[0m\n\u001b[1;32m----> 6\u001b[1;33m \u001b[0mprint\u001b[0m\u001b[1;33m(\u001b[0m\u001b[0msqrt\u001b[0m\u001b[1;33m(\u001b[0m\u001b[0mloss\u001b[0m\u001b[1;33m)\u001b[0m\u001b[1;33m)\u001b[0m\u001b[1;33m\u001b[0m\u001b[0m\n\u001b[0m\u001b[0;32m      7\u001b[0m \u001b[0mprint\u001b[0m\u001b[1;33m(\u001b[0m\u001b[0mloss\u001b[0m\u001b[1;33m)\u001b[0m\u001b[1;33m\u001b[0m\u001b[0m\n",
      "\u001b[1;31mNameError\u001b[0m: name 'sqrt' is not defined"
     ]
    }
   ],
   "source": [
    "loss=0.0\n",
    "for line in train_data.itertuples():\n",
    "    loss+=(line[3] - np.sum(P[line[1]-1] * Q[line[2]-1]))**2\n",
    "\n",
    "loss/=len(train_data)\n",
    "print(sqrt(loss))\n",
    "print(loss)"
   ]
  },
  {
   "cell_type": "code",
   "execution_count": null,
   "metadata": {},
   "outputs": [],
   "source": [
    "plt.title('Training loss')\n",
    "plt.plot(loss_history)\n",
    "plt.xlabel('Iteration times')\n",
    "plt.ylabel('RMSE')\n",
    "\n",
    "plt.show()"
   ]
  },
  {
   "cell_type": "markdown",
   "metadata": {},
   "source": [
    "# Test error"
   ]
  },
  {
   "cell_type": "code",
   "execution_count": null,
   "metadata": {
    "collapsed": true
   },
   "outputs": [],
   "source": [
    "loss=0.0\n",
    "for line in test_data.itertuples():\n",
    "    loss+=(line[3] - np.sum(P[line[1]-1] * Q[line[2]-1]))**2\n",
    "\n",
    "loss/=len(test_data)\n",
    "print(sqrt(loss))"
   ]
  }
 ],
 "metadata": {
  "kernelspec": {
   "display_name": "Python 3",
   "language": "python",
   "name": "python3"
  },
  "language_info": {
   "codemirror_mode": {
    "name": "ipython",
    "version": 3
   },
   "file_extension": ".py",
   "mimetype": "text/x-python",
   "name": "python",
   "nbconvert_exporter": "python",
   "pygments_lexer": "ipython3",
   "version": "3.6.1"
  }
 },
 "nbformat": 4,
 "nbformat_minor": 2
}
